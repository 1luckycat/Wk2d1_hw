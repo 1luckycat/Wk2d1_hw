{
 "cells": [
  {
   "cell_type": "markdown",
   "metadata": {},
   "source": [
    "# Week 2 - Monday Lesson (variable assignment, loops, lists)"
   ]
  },
  {
   "cell_type": "markdown",
   "metadata": {},
   "source": [
    "## Tasks Today:\n",
    "\n",
    "1) Int & Float assignments <br>\n",
    " &nbsp;&nbsp;&nbsp;&nbsp; a) Assigning int <br>\n",
    " &nbsp;&nbsp;&nbsp;&nbsp; b) Assigning float <br>\n",
    " &nbsp;&nbsp;&nbsp;&nbsp; c) Performing Calculations on ints and floats <br>\n",
    " &nbsp;&nbsp;&nbsp;&nbsp;&nbsp;&nbsp;&nbsp;&nbsp; - Addition <br>\n",
    " &nbsp;&nbsp;&nbsp;&nbsp;&nbsp;&nbsp;&nbsp;&nbsp; - Subtraction <br>\n",
    " &nbsp;&nbsp;&nbsp;&nbsp;&nbsp;&nbsp;&nbsp;&nbsp; - Multiplication <br>\n",
    " &nbsp;&nbsp;&nbsp;&nbsp;&nbsp;&nbsp;&nbsp;&nbsp; - Division <br>\n",
    " &nbsp;&nbsp;&nbsp;&nbsp;&nbsp;&nbsp;&nbsp;&nbsp; - Floor Division <br>\n",
    " &nbsp;&nbsp;&nbsp;&nbsp;&nbsp;&nbsp;&nbsp;&nbsp; - Modulo <br>\n",
    " &nbsp;&nbsp;&nbsp;&nbsp;&nbsp;&nbsp;&nbsp;&nbsp; - Exponential <br>\n",
    "2) String Input-Output <br>\n",
    " &nbsp;&nbsp;&nbsp;&nbsp; a) String Assignment <br>\n",
    " &nbsp;&nbsp;&nbsp;&nbsp; b) print() <br>\n",
    " &nbsp;&nbsp;&nbsp;&nbsp; c) String Concatenation <br>\n",
    " &nbsp;&nbsp;&nbsp;&nbsp; d) Type Conversion <br>\n",
    " &nbsp;&nbsp;&nbsp;&nbsp; e) input() <br>\n",
    " &nbsp;&nbsp;&nbsp;&nbsp; f) format() <br>\n",
    " &nbsp;&nbsp;&nbsp;&nbsp; g) Old Way (python 2) <br>\n",
    "3) <b>In-Class Exercise #1</b> <br>\n",
    "4) If Statements <br>\n",
    " &nbsp;&nbsp;&nbsp;&nbsp; a) 'is' keyword <br>\n",
    " &nbsp;&nbsp;&nbsp;&nbsp; b) 'in' keyword <br>\n",
    " &nbsp;&nbsp;&nbsp;&nbsp; c) 'not in' keyword <br>\n",
    "5) <b>In-Class Exercise #2</b> <br>\n",
    "6) Elif Statements <br>\n",
    "7) Else Statements <br>\n",
    "8) <b>In-Class Exercise #3</b> <br>\n",
    "9) Built-In Functions <br>\n",
    "\n",
    " &nbsp;&nbsp;&nbsp;&nbsp; b) len() <br>\n",
    " &nbsp;&nbsp;&nbsp;&nbsp; c) help() <br>\n",
    " &nbsp;&nbsp;&nbsp;&nbsp; d) isinstance() <br>\n",
    " &nbsp;&nbsp;&nbsp;&nbsp; e) abs() <br>\n",
    "10) Try and Except <br>\n"
   ]
  },
  {
   "cell_type": "markdown",
   "metadata": {},
   "source": [
    "### Int & Float Assignments"
   ]
  },
  {
   "cell_type": "markdown",
   "metadata": {},
   "source": [
    "##### Assigning int"
   ]
  },
  {
   "cell_type": "code",
   "execution_count": null,
   "metadata": {},
   "outputs": [],
   "source": [
    "#assigning a variable in python\n",
    "#variable name is to the left of the equals sign\n",
    "#variable value is to the right\n",
    "# integer is any whole number\n",
    "number=6\n",
    "print(number)\n",
    "elephants = 21\n",
    "print(elephants)\n",
    "print(7)\n",
    "\n",
    "x = 10\n",
    "y = 7\n"
   ]
  },
  {
   "cell_type": "markdown",
   "metadata": {},
   "source": [
    "##### Assigning float"
   ]
  },
  {
   "cell_type": "code",
   "execution_count": null,
   "metadata": {},
   "outputs": [],
   "source": [
    "# a float is any number with a decimal\n",
    "num_float = 3.14\n",
    "print(num_float)\n",
    "\n",
    "my_float = 30.4653423423\n",
    "print(my_float)\n",
    "\n",
    "another_float = 12.0\n",
    "print(another_float)\n"
   ]
  },
  {
   "cell_type": "markdown",
   "metadata": {},
   "source": [
    "#### Performing Calculations on ints and floats"
   ]
  },
  {
   "cell_type": "markdown",
   "metadata": {},
   "source": [
    "##### Addition"
   ]
  },
  {
   "cell_type": "code",
   "execution_count": null,
   "metadata": {},
   "outputs": [],
   "source": [
    "num1 = 3\n",
    "num2 = 7\n",
    "print(num1 + num2)\n",
    "\n",
    "# variable = 3 + 7\n",
    "result = num1 + num2\n",
    "print(result)\n"
   ]
  },
  {
   "cell_type": "code",
   "execution_count": null,
   "metadata": {},
   "outputs": [],
   "source": [
    "# +=\n",
    "num3 = 15\n",
    "num4 = 2\n",
    "result2 = num3 + num4\n",
    "print(result2)\n",
    "\n",
    "result2 += num4\n",
    "print(result2)"
   ]
  },
  {
   "cell_type": "code",
   "execution_count": null,
   "metadata": {},
   "outputs": [],
   "source": [
    "num5 = 6\n",
    "\n",
    "num5 += 7\n",
    "print(num5)"
   ]
  },
  {
   "cell_type": "markdown",
   "metadata": {},
   "source": [
    "##### Subtraction"
   ]
  },
  {
   "cell_type": "code",
   "execution_count": null,
   "metadata": {},
   "outputs": [],
   "source": [
    "num3 = 15\n",
    "num4 = 2\n",
    "#  15 - 2\n",
    "print(num3 - num4)\n",
    "\n",
    "#setting a variable to the difference of two numbers\n",
    "result = num3 - num4\n",
    "print(result)\n",
    "\n",
    "# -=\n",
    "my_num = 10\n",
    "# my_num = my_num - 1\n",
    "my_num -= 1\n",
    "print(my_num)\n"
   ]
  },
  {
   "cell_type": "markdown",
   "metadata": {},
   "source": [
    "##### Multiplication"
   ]
  },
  {
   "cell_type": "code",
   "execution_count": null,
   "metadata": {},
   "outputs": [],
   "source": [
    "# * \n",
    "num1 = 10\n",
    "num2 = 4.7\n",
    "\n",
    "product = num1 * num2\n",
    "print(product)\n",
    "\n",
    "# *=\n",
    "another_num = 6\n",
    "# another_num = another_num * 2\n",
    "another_num *= 2\n",
    "print(another_num)\n"
   ]
  },
  {
   "cell_type": "markdown",
   "metadata": {},
   "source": [
    "##### Division"
   ]
  },
  {
   "cell_type": "code",
   "execution_count": null,
   "metadata": {},
   "outputs": [],
   "source": [
    "# /\n",
    "num1 = 45\n",
    "num2 = 9\n",
    "# variable = 45 / 9\n",
    "quotient = num1 / num2\n",
    "print(quotient)"
   ]
  },
  {
   "cell_type": "code",
   "execution_count": null,
   "metadata": {},
   "outputs": [],
   "source": [
    "# /=\n",
    "num1 = 45\n",
    "#         45  /  3\n",
    "# num1 = num1 / 3\n",
    "num1 /= 3\n",
    "\n",
    "print(num1)"
   ]
  },
  {
   "cell_type": "markdown",
   "metadata": {},
   "source": [
    "##### Floor Division"
   ]
  },
  {
   "cell_type": "code",
   "execution_count": null,
   "metadata": {},
   "outputs": [],
   "source": [
    "# //\n",
    "# round down to the nearest whole number\n",
    "num1 = 5\n",
    "num2 = 2\n",
    "# variable = 5 // 2\n",
    "floored = num1 // num2\n",
    "#result from dividing these is 2.5\n",
    "#the floor is going round down to the nearest whole number\n",
    "print(floored)\n",
    "\n",
    "#this is regular division\n",
    "divided = num1 / num2\n",
    "print(divided)"
   ]
  },
  {
   "cell_type": "code",
   "execution_count": null,
   "metadata": {},
   "outputs": [],
   "source": [
    "num1 = 45\n",
    "num2 = 3\n",
    "floored = num1 // num2\n",
    "print(floored)\n"
   ]
  },
  {
   "cell_type": "markdown",
   "metadata": {},
   "source": [
    "##### Modulo"
   ]
  },
  {
   "cell_type": "code",
   "execution_count": null,
   "metadata": {},
   "outputs": [],
   "source": [
    "# returns the remainder of a division problem\n",
    "num = 6\n",
    "if num % 2 == 0:\n",
    "    print(\"even\")\n",
    "else: \n",
    "    print(\"odd\")"
   ]
  },
  {
   "cell_type": "code",
   "execution_count": null,
   "metadata": {},
   "outputs": [],
   "source": [
    "num = 6\n",
    "remainder = num % 2\n",
    "print(remainder)"
   ]
  },
  {
   "cell_type": "code",
   "execution_count": null,
   "metadata": {},
   "outputs": [],
   "source": [
    "num2 = 5\n",
    "remainder = num2 % 2\n",
    "# 5 / 2 = 2 remainder 1\n",
    "print(remainder)"
   ]
  },
  {
   "cell_type": "markdown",
   "metadata": {},
   "source": [
    "##### Exponential"
   ]
  },
  {
   "cell_type": "code",
   "execution_count": null,
   "metadata": {},
   "outputs": [],
   "source": [
    "# **   num**2\n",
    "square = 5 ** 2   # **2 squares a number\n",
    "print(square)\n",
    "\n",
    "number = 6\n",
    "# number = number ** 2\n",
    "number **= 2\n",
    "print(number)"
   ]
  },
  {
   "cell_type": "code",
   "execution_count": null,
   "metadata": {},
   "outputs": [],
   "source": [
    "cubed = 3 ** 3    # 3 * 3 * 3\n",
    "print(cubed)\n"
   ]
  },
  {
   "cell_type": "markdown",
   "metadata": {},
   "source": [
    "### String Input-Output"
   ]
  },
  {
   "cell_type": "markdown",
   "metadata": {},
   "source": [
    "##### String Assignment"
   ]
  },
  {
   "cell_type": "code",
   "execution_count": null,
   "metadata": {},
   "outputs": [],
   "source": [
    "# string is denoted using \"\" ''\n",
    "name = \"Ryan\"\n",
    "\n",
    "num_string = \"3\" ## this is a string and not a number\n",
    "\n",
    "dog = 'Mutt'\n",
    "print(name)\n",
    "print(num_string)\n",
    "print(dog)\n",
    "\n",
    "my_sentence = 'Hi, my name is Alex and I like to party at Ryan\\'s house'  #use a \\ if using simalar quotes ex: ' Ryan's '\n",
    "print(my_sentence)"
   ]
  },
  {
   "cell_type": "markdown",
   "metadata": {},
   "source": [
    "##### print() <br>\n",
    "<p>Don't forget about end=' '</p>"
   ]
  },
  {
   "cell_type": "code",
   "execution_count": null,
   "metadata": {},
   "outputs": [],
   "source": [
    "name = \"Ryan\"\n",
    "name2 = \"Alex\"\n",
    "name3 = \"Justin\"\n",
    "print(\"Hello,\" , name)\n",
    "print (\"Hello,\" , name, name2, name3)\n",
    "\n",
    "print(\"Full Name:\", name, end=\" Rhoades\")\n",
    "print (\"\\n\")\n",
    "print(\"Hello there\")\n",
    "help(print)"
   ]
  },
  {
   "cell_type": "markdown",
   "metadata": {},
   "source": [
    "##### String Concatenation"
   ]
  },
  {
   "cell_type": "code",
   "execution_count": null,
   "metadata": {},
   "outputs": [],
   "source": [
    "# strings are immutable meaning they can't be changed\n",
    "# adding two or more strings together to make one larger string\n",
    "# this is done by either creating a new variable to hold the two concatenated strings\n",
    "# or reassigning a current variable\n",
    "first_name = \"Luke\"\n",
    "last_name = \"Skywalker\"\n",
    "\n",
    "full_name = \"Luke\" + \" \" + \"Skywalker\"\n",
    "print(full_name)\n",
    "\n",
    "full_name = first_name + \" \" + last_name\n",
    "print(full_name)\n",
    "\n",
    "# += also works here\n",
    "\n",
    "# full-name = full_name + \" \" + \"Jedi Master\"\n",
    "full_name += \" \" + \"Jedi Master\"\n",
    "print(full_name)"
   ]
  },
  {
   "cell_type": "markdown",
   "metadata": {},
   "source": [
    "##### Type Conversion"
   ]
  },
  {
   "cell_type": "code",
   "execution_count": null,
   "metadata": {},
   "outputs": [],
   "source": [
    "# int() -> convert type to integer\n",
    "# float() -> convert type to float\n",
    "# str() -> converts type to a string\n",
    "\n",
    "# not every string can be tukrned into a float or an integer\n",
    "# but every integer and float can be made into a string\n",
    "\n",
    "# type() give us the type of the variable\n",
    "x= 12\n",
    "print(type(x))\n",
    "\n",
    "name = \"Ryan\"\n",
    "print(type(name))\n",
    "\n",
    "num_str = \"15\"\n",
    "print(type(num_str))\n",
    "\n",
    "y = 1.45\n",
    "print(type(y))"
   ]
  },
  {
   "cell_type": "code",
   "execution_count": null,
   "metadata": {},
   "outputs": [],
   "source": [
    "new_x = str(x)\n",
    "\n",
    "new_y = str(y)\n",
    "\n",
    "print(new_x)\n",
    "print(new_y)\n",
    "\n",
    "print(type(new_x))\n",
    "print(type(new_y))\n",
    "\n",
    "#cant print type for two variable, only one at a time"
   ]
  },
  {
   "cell_type": "code",
   "execution_count": null,
   "metadata": {},
   "outputs": [],
   "source": [
    "num = int(num_str)\n",
    "print(num)\n",
    "print(type(num))\n",
    "\n",
    "floaty = float(num_str)\n",
    "print(floaty)\n",
    "print(type(floaty))\n"
   ]
  },
  {
   "cell_type": "code",
   "execution_count": null,
   "metadata": {},
   "outputs": [],
   "source": [
    "int_name = int(name)\n",
    "#cant change string into an integer"
   ]
  },
  {
   "cell_type": "markdown",
   "metadata": {},
   "source": [
    "##### input()"
   ]
  },
  {
   "cell_type": "code",
   "execution_count": null,
   "metadata": {},
   "outputs": [],
   "source": [
    "# input will always return a string, all of the time, forever and ever\n",
    "name = input(\"What is your name?\")\n",
    "print(\"Your name is\", name)\n",
    "\n",
    "quest = input(\"What is your quest? \")\n",
    "print(\"Your quest is\", quest)\n",
    "\n",
    "color = input(\"What is your favorite color? \")\n",
    "print(\"Your favorite color is\", color)\n",
    "\n"
   ]
  },
  {
   "cell_type": "code",
   "execution_count": null,
   "metadata": {},
   "outputs": [],
   "source": [
    "age = int(input(\"How old are you? \"))  #<----- make sure to put int() to convert input into a integer so you can do age +=1\n",
    "print(\"Your age is\", age)\n",
    "\n",
    "age = int(age)\n",
    "\n",
    "age += 1\n",
    "print(age)"
   ]
  },
  {
   "cell_type": "code",
   "execution_count": null,
   "metadata": {},
   "outputs": [],
   "source": []
  },
  {
   "cell_type": "markdown",
   "metadata": {},
   "source": [
    "##### format()"
   ]
  },
  {
   "cell_type": "code",
   "execution_count": null,
   "metadata": {},
   "outputs": [],
   "source": [
    "# f string ---> f\"\"\n",
    "name = \"Ryan\"\n",
    "print(f\"Hello my name is {name}\")\n",
    "\n",
    "# format()\n",
    "age = int(input(\"How old are you? \"))\n",
    "name = input(\"What is your name? \")\n",
    "\n",
    "# first format statement\n",
    "result_string = \"You are {} years old, {}, and you are getting wiser\".format(age, name)\n",
    "print(result_string)\n",
    "\n",
    "# more popular f string statement\n",
    "result_again = f\"{age} is a great time in life.  Especially if your're {name}\"\n",
    "print(result_again)"
   ]
  },
  {
   "cell_type": "markdown",
   "metadata": {},
   "source": [
    "##### Old Way (python 2)"
   ]
  },
  {
   "cell_type": "code",
   "execution_count": null,
   "metadata": {},
   "outputs": [],
   "source": [
    "# the older way of doing a format print statement\n",
    "result_string = \"You are %s years old, and looking great for your age.\" %age\n",
    "print(result_string)"
   ]
  },
  {
   "cell_type": "markdown",
   "metadata": {},
   "source": [
    "# In-Class Exercise 1 <br>\n",
    "<p>Create a formatted statement that asks for a car's color, year, make, model and prints out the results</p>"
   ]
  },
  {
   "cell_type": "code",
   "execution_count": null,
   "metadata": {},
   "outputs": [],
   "source": [
    "color = input(\"What is your car's color?\")\n",
    "year = int(input(\"What is your car's year?\"))\n",
    "make = input(\"What is your car's make?\")\n",
    "model = input(\"What is your car's model?\")\n",
    "\n",
    "result = f\"Your car is a {color} {year} {make} {model}!\"\n",
    "print(result)\n",
    "    "
   ]
  },
  {
   "cell_type": "code",
   "execution_count": null,
   "metadata": {},
   "outputs": [],
   "source": []
  },
  {
   "cell_type": "code",
   "execution_count": null,
   "metadata": {},
   "outputs": [],
   "source": []
  },
  {
   "cell_type": "markdown",
   "metadata": {},
   "source": [
    "### If Statements"
   ]
  },
  {
   "cell_type": "code",
   "execution_count": null,
   "metadata": {},
   "outputs": [],
   "source": [
    "# also known as conditionals.  This is essentially asking questions about our data, then doing \n",
    "# something based on the answer.\n",
    "\n",
    "# Comparison Operators\n",
    "\n",
    "# Operators Less Than <, Greater Than >, Equal too ==, Not Equal To !=\n",
    "# Less Than or Equal To <=, Greater Than or Equal To >=\n",
    "\n",
    "num1 = 6\n",
    "num2 = 65\n",
    "\n",
    "# to ask questions of our data we use the \"if\" keyword\n",
    "\n",
    "if num2 > num1:  # our question always starts with \"if\", ask our question, ends with :\n",
    "    print(\"Its bigger!\")\n",
    "\n",
    "# two different types of equal signs:  Singular = & double ==\n",
    "# We use a signular = when we are declaring variables.\n",
    "# We use double == when we are checking VALUE equality.\n",
    "    "
   ]
  },
  {
   "cell_type": "code",
   "execution_count": null,
   "metadata": {
    "scrolled": true
   },
   "outputs": [],
   "source": [
    "\n",
    "\n",
    "\n",
    "\n"
   ]
  },
  {
   "cell_type": "markdown",
   "metadata": {},
   "source": [
    "# Double equal is referencing VALUE equality.\n",
    "# The \"is\" keyword is referencing object equality also reference equality\n",
    "num3 = 90\n",
    "\n",
    "if num3 == 90:\n",
    "    print(\"It is equal to 90\")"
   ]
  },
  {
   "cell_type": "code",
   "execution_count": null,
   "metadata": {},
   "outputs": [],
   "source": [
    "'is' keyword\n",
    "\n",
    "\n",
    "# Double equal is referencing VALUE equality.\n",
    "# The \"is\" keyword is referencing object equality also reference equality\n",
    "num3 = 90\n",
    "\n",
    "if num3 == 90: \n",
    "    print(\"It is equal to 90\")\n",
    "\n",
    "if num3 is 90:\n",
    "    print(\"This will also work\")\n",
    "\n",
    "num3 = 90\n",
    "num4 = 90\n",
    "if num3 is num4:\n",
    "    print(\"This will also work\")"
   ]
  },
  {
   "cell_type": "code",
   "execution_count": null,
   "metadata": {},
   "outputs": [],
   "source": [
    "num4 = num3\n",
    "if num3 ==num4:\n",
    "    print(\"They both equal the same thing\")"
   ]
  },
  {
   "cell_type": "code",
   "execution_count": null,
   "metadata": {},
   "outputs": [],
   "source": [
    "if num4 is num3:\n",
    "    print(\"Same object\")"
   ]
  },
  {
   "cell_type": "markdown",
   "metadata": {},
   "source": [
    "##### 'in' keyword"
   ]
  },
  {
   "cell_type": "code",
   "execution_count": null,
   "metadata": {},
   "outputs": [],
   "source": [
    "# 1 way we use the \"in\" keyword is to check to see if value is inside something else\n",
    "# membership check\n",
    "\n",
    "name = 'Morgan'\n",
    "\n",
    "if \"a\" in name:\n",
    "    print(\"How lovely\")\n",
    "    \n"
   ]
  },
  {
   "cell_type": "markdown",
   "metadata": {},
   "source": [
    "##### 'not in' keyword'"
   ]
  },
  {
   "cell_type": "code",
   "execution_count": null,
   "metadata": {},
   "outputs": [],
   "source": [
    "if \"b\" not in name:\n",
    "    print(\"It's not here\")"
   ]
  },
  {
   "cell_type": "code",
   "execution_count": null,
   "metadata": {},
   "outputs": [],
   "source": [
    "if \"a\" in name:\n",
    "    print(\"How lovely\")\n",
    "elif \"b\" not in name:\n",
    "    print(\"It's not here\")"
   ]
  },
  {
   "cell_type": "markdown",
   "metadata": {},
   "source": [
    "# In-Class Exercise 2 <br>\n",
    "<p>Ask user for input, check to see if the letter 'p' is in the input</p>\n",
    "<p>Check for case sensitivity</p>\n"
   ]
  },
  {
   "cell_type": "code",
   "execution_count": null,
   "metadata": {},
   "outputs": [],
   "source": [
    "word = input(\"Type in a word~\")\n",
    "\n",
    "if \"p\" in word:\n",
    "    print(\"Yes! p is in there!\")"
   ]
  },
  {
   "cell_type": "code",
   "execution_count": null,
   "metadata": {},
   "outputs": [],
   "source": [
    "word = input(\"Type in a word~\")\n",
    "\n",
    "if \"p\" and \"P\" in word:  #<----- it is asking two questions: 1. if p is in word and 2. if P is in word --- needs both to be true\n",
    "    print(\"Yes! it is there!\")\n",
    "else:\n",
    "    print(\"Nope!\")"
   ]
  },
  {
   "cell_type": "code",
   "execution_count": null,
   "metadata": {},
   "outputs": [],
   "source": [
    "if \"p\":   #<----p IS a value\n",
    "    print(\"p exists and is a truesy value\")\n",
    "\n",
    "# there are truesy values so basically anything that actualy has a value\n",
    "# there are falsy values so 0, \"\", [], {}."
   ]
  },
  {
   "cell_type": "code",
   "execution_count": null,
   "metadata": {},
   "outputs": [],
   "source": []
  },
  {
   "cell_type": "markdown",
   "metadata": {},
   "source": [
    "## Using 'and'/'or' with If Statements"
   ]
  },
  {
   "cell_type": "code",
   "execution_count": null,
   "metadata": {},
   "outputs": [],
   "source": [
    "# We can change our questions/conditionals together.  We can ask multiple questions in the same line.\n",
    "\n",
    "#Truth Tree\n",
    "# T && F = F  \"and\"\n",
    "# T && T = T  \"and\"\n",
    "# T || F = T  \"or\"\n",
    "# F || T = T  \"or\"\n",
    "# F || F = F  \"or\"\n",
    "\n",
    "num1 = 15\n",
    "num2 = 3\n",
    "num3 = 10\n",
    "num4 = 3\n",
    "\n",
    "#if statement with either \"and\" / \"or\"\n",
    "\n",
    "        #T                     #T\n",
    "if num1 / 5 == num2 and num3 - 7 == num4:\n",
    "    print(\"True and True\")\n",
    "else:\n",
    "    print(\"One of these is false\")\n",
    "\n",
    "\n",
    "        #T                 #F\n",
    "if num1 / 5 == num2 and num3 / 5 == num4:\n",
    "    print(\"True and True\")\n",
    "else: \n",
    "    print(\"One of these is false\")\n",
    "\n",
    "\n",
    "        #T                #F\n",
    "if num1 / 5 == num2 or num3 / 5 == num4:\n",
    "    print(\"True and True\")\n",
    "else: \n",
    "    print(\"One of these is false\")\n",
    "\n",
    "        #F                  #F\n",
    "if num1 / 6 == num2 or num3 / 5 == num4:\n",
    "    print(\"True and True\")\n",
    "else: \n",
    "    print(\"One of these is false\")"
   ]
  },
  {
   "cell_type": "markdown",
   "metadata": {},
   "source": [
    "### Elif Statements"
   ]
  },
  {
   "cell_type": "code",
   "execution_count": null,
   "metadata": {},
   "outputs": [],
   "source": [
    "#if conidtion 1\n",
    "#elif condition 2\n",
    "#elif condition 3\n",
    "#elif condition 4\n",
    "#else (all other conditions)\n",
    "\n",
    "# always start with an if, meaning your first question begins with an \"if\"\n",
    "\n",
    "first_name = 'Justin'\n",
    "\n",
    "\n",
    "# with if, elif, else statements as soon as one of them hits, it skips the rest.\n",
    "\n",
    "if first_name == \"Harry\":\n",
    "    print(\"You're a wizard harry\")\n",
    "elif first_name == \"Justin\":\n",
    "    print(\"Hey it's Justin!!\")\n",
    "elif first_name == \"Ron\":\n",
    "    print(\"Eat Slugs\")\n",
    "elif first_name == \"Hermoine\":\n",
    "    print(\"Its leviOsa not levioSA\")\n",
    "else:\n",
    "    print(f\"You are not a wizard {first_name}, sorry :(\")\n"
   ]
  },
  {
   "cell_type": "code",
   "execution_count": null,
   "metadata": {},
   "outputs": [],
   "source": [
    "# chaining if statements on top of each other is going to check all of them,\n",
    "# however, if elif else statements as soon as on hits, it skips the rest.\n",
    "\n",
    "if first_name == \"Justin\":\n",
    "    print(\"Hey it's Justin\")\n",
    "if \"i\" in first_name:\n",
    "    print(\"The is have it!\")\n",
    "    "
   ]
  },
  {
   "cell_type": "markdown",
   "metadata": {},
   "source": [
    "### Else Statements"
   ]
  },
  {
   "cell_type": "code",
   "execution_count": null,
   "metadata": {},
   "outputs": [],
   "source": [
    "#else is accounting for every other case that isn't true for any of the ifs or elifs\n",
    "# see above Harry Potter example.\n",
    "# if none of the if or elifs hit, the else will hit.\n",
    "\n",
    "\n",
    "# you dont need an else statement\n",
    "\n",
    "if first_name == \"Harry\":\n",
    "    print(\"You're a wizard harry\")\n",
    "elif first_name == \"Ron\":\n",
    "    print(\"Eat Slugs\")\n",
    "elif first_name == \"Hermoine\":\n",
    "    print(\"Its leviOsa not levioSA\")\n",
    "else:\n",
    "    print(f\"You are not a wizard {first_name}, sorry :(\")"
   ]
  },
  {
   "cell_type": "markdown",
   "metadata": {},
   "source": [
    "### String Manipulation"
   ]
  },
  {
   "cell_type": "markdown",
   "metadata": {},
   "source": [
    "#### .lstrip()"
   ]
  },
  {
   "cell_type": "code",
   "execution_count": null,
   "metadata": {},
   "outputs": [],
   "source": [
    "# String Manipulation helps elimate white spaces and clean our data\n",
    "\n",
    "# our_string.lstrip()\n",
    "name = \"           Lando Calrissian\"\n",
    "print(name)\n",
    "name = name.lstrip()   #left strip so strips the white space to the left of the string characters\n",
    "print(name)"
   ]
  },
  {
   "cell_type": "markdown",
   "metadata": {},
   "source": [
    "#### .rstrip()"
   ]
  },
  {
   "cell_type": "code",
   "execution_count": null,
   "metadata": {},
   "outputs": [],
   "source": [
    "# our_string.rstrip()\n",
    "\n",
    "name= \"Luke Skywalker          \"\n",
    "print(name)\n",
    "name = name.rstrip()     #right stip so strips the white space to the left of the string characters\n",
    "print(name)"
   ]
  },
  {
   "cell_type": "markdown",
   "metadata": {},
   "source": [
    "#### .strip()"
   ]
  },
  {
   "cell_type": "code",
   "execution_count": null,
   "metadata": {},
   "outputs": [],
   "source": [
    "# our.string.strip()\n",
    "\n",
    "name = \"    Ash Ketchum   \"\n",
    "print(name)\n",
    "name = name.strip()\n",
    "print(name)"
   ]
  },
  {
   "cell_type": "code",
   "execution_count": null,
   "metadata": {},
   "outputs": [],
   "source": [
    "options = input(\"What would you like to do? Play, pause, stop? \").strip()\n",
    "\n",
    "if options == 'play':\n",
    "    print(\"Playing your movie\")"
   ]
  },
  {
   "cell_type": "code",
   "execution_count": null,
   "metadata": {},
   "outputs": [],
   "source": []
  },
  {
   "cell_type": "code",
   "execution_count": null,
   "metadata": {},
   "outputs": [],
   "source": [
    "#.replace()\n",
    "\n",
    "name = \"Alex,\"\n",
    "print(name)\n",
    "\n",
    "#replace() function takes in two arguments\n",
    "# first is what we are replacing\n",
    "# second is what we are replacing it with\n",
    "name = name.replace(\",\" , \"\")\n",
    "print(name)"
   ]
  },
  {
   "cell_type": "markdown",
   "metadata": {},
   "source": [
    "#### .title()"
   ]
  },
  {
   "cell_type": "code",
   "execution_count": null,
   "metadata": {},
   "outputs": [],
   "source": [
    "#our_string.title()\n",
    "name = \"mo truong\"\n",
    "print(name)\n",
    "\n",
    "name = name.title()\n",
    "print(name)"
   ]
  },
  {
   "cell_type": "markdown",
   "metadata": {},
   "source": [
    "#### .upper()"
   ]
  },
  {
   "cell_type": "code",
   "execution_count": null,
   "metadata": {},
   "outputs": [],
   "source": [
    "# our_string.upper()\n",
    "name = name.upper()\n",
    "print(name)"
   ]
  },
  {
   "cell_type": "markdown",
   "metadata": {},
   "source": [
    "#### .lower()"
   ]
  },
  {
   "cell_type": "code",
   "execution_count": null,
   "metadata": {
    "scrolled": true
   },
   "outputs": [],
   "source": [
    "# our_string.lower()\n",
    "name = name.lower()\n",
    "print(name)"
   ]
  },
  {
   "cell_type": "code",
   "execution_count": null,
   "metadata": {},
   "outputs": [],
   "source": [
    "options = input(\"What would you like to do? Play, pause, stop? \").strip().lower()   #<<---can add more than one function on there\n",
    "\n",
    "if options == 'play':\n",
    "    print(\"Playing your movie\")"
   ]
  },
  {
   "cell_type": "markdown",
   "metadata": {},
   "source": [
    "### String Exercise"
   ]
  },
  {
   "cell_type": "markdown",
   "metadata": {},
   "source": [
    "Have a user input a sentence. Return the name with all white space removed and each first letter capitalized."
   ]
  },
  {
   "cell_type": "code",
   "execution_count": null,
   "metadata": {},
   "outputs": [],
   "source": [
    "name = input(\"What is your name? \")  # This stores it as the user inputs\n",
    "\n",
    "print(f\"Thanks your name is {name.strip().title()}\")  # Displays it with no whitespace & title cased, but doesnt change the user's inputs\n",
    "\n",
    "name2 = input(\"What is your name? \").strip().title()\n",
    "print(name2)"
   ]
  },
  {
   "cell_type": "code",
   "execution_count": null,
   "metadata": {},
   "outputs": [],
   "source": []
  },
  {
   "cell_type": "code",
   "execution_count": null,
   "metadata": {},
   "outputs": [],
   "source": []
  },
  {
   "cell_type": "code",
   "execution_count": null,
   "metadata": {},
   "outputs": [],
   "source": []
  },
  {
   "cell_type": "markdown",
   "metadata": {},
   "source": [
    "### Built-In Functions"
   ]
  },
  {
   "cell_type": "code",
   "execution_count": null,
   "metadata": {},
   "outputs": [],
   "source": [
    "# Probably the most popular built in function is print()"
   ]
  },
  {
   "cell_type": "markdown",
   "metadata": {},
   "source": [
    "##### len()"
   ]
  },
  {
   "cell_type": "code",
   "execution_count": null,
   "metadata": {},
   "outputs": [],
   "source": [
    "#works for strings and lists\n",
    "# return the length of a given variable as an integer\n",
    "\n",
    "name = \"Razvan\"   # strings are iterables aka multiple pieces of a container\n",
    "number = 72000    # integers and floats are not iterables\n",
    "\n",
    "name_length = len(name)  #len takes in 1 argument which is the variable/iterable (e.g strings, lists, dictionaries)\n",
    "print(name_length)\n",
    "\n",
    "# num_length = len(number)    <---Cant do this\n",
    "# print(num_length)\n"
   ]
  },
  {
   "cell_type": "markdown",
   "metadata": {},
   "source": [
    "##### help()"
   ]
  },
  {
   "cell_type": "code",
   "execution_count": null,
   "metadata": {},
   "outputs": [],
   "source": [
    "# gives a tooltip on a python built-in function\n",
    "help(len)\n",
    "help(print)"
   ]
  },
  {
   "cell_type": "markdown",
   "metadata": {},
   "source": [
    "##### isinstance()"
   ]
  },
  {
   "cell_type": "code",
   "execution_count": null,
   "metadata": {},
   "outputs": [],
   "source": [
    "#check a variable/value to find out what Object Family (data type) it belongs to\n",
    "# isinstance(var, type)   \n",
    "\n",
    "my_num = 11\n",
    "\n",
    "if isinstance(my_num, int):\n",
    "    print(\"This is in fact a whole number\")\n",
    "else:\n",
    "    print(\"No luck, not a number\")"
   ]
  },
  {
   "cell_type": "code",
   "execution_count": null,
   "metadata": {},
   "outputs": [],
   "source": [
    "\n"
   ]
  },
  {
   "cell_type": "code",
   "execution_count": null,
   "metadata": {},
   "outputs": [],
   "source": []
  },
  {
   "cell_type": "code",
   "execution_count": null,
   "metadata": {},
   "outputs": [],
   "source": []
  },
  {
   "cell_type": "markdown",
   "metadata": {},
   "source": [
    "##### abs()"
   ]
  },
  {
   "cell_type": "code",
   "execution_count": null,
   "metadata": {},
   "outputs": [],
   "source": [
    "# | 5 |\n",
    "# give us the distance to zero\n",
    "\n",
    "print(abs(-5))   #-5 has a distance of 5 from 0\n",
    "print(abs(5))    #5 has a distance of 5 from 0\n",
    "\n",
    "#if I wanted to check the distance between two #s but didnt know which which one was larger\n",
    "\n",
    "num1 = 15\n",
    "num2 = 10\n",
    "\n",
    "print(abs(num1 - num2))"
   ]
  },
  {
   "cell_type": "markdown",
   "metadata": {},
   "source": [
    "### Try and Except"
   ]
  },
  {
   "cell_type": "code",
   "execution_count": null,
   "metadata": {},
   "outputs": [],
   "source": [
    "# use this whenever you expect encounter a bug so that the error doesn't cause the program to stop\n",
    "# logging graceful error messages to gently nudge the user in the right direction\n",
    "\n",
    "# the try just will house any code we are trying to run\n",
    "try: \n",
    "    age = int(input(\"How old are you? \"))\n",
    "    print(f\"Happy Birthday you were {age} but now you are {age + 1}\")\n",
    "except:\n",
    "    print(\"Please enter in a number, not text and try again.\")"
   ]
  },
  {
   "cell_type": "code",
   "execution_count": null,
   "metadata": {},
   "outputs": [],
   "source": []
  },
  {
   "cell_type": "markdown",
   "metadata": {},
   "source": [
    "## Exercise #1 <br>\n",
    "<p>Accept two user ages as inputs and give us the difference between them. (The Answer should always be a positive output)</p>"
   ]
  },
  {
   "cell_type": "code",
   "execution_count": null,
   "metadata": {},
   "outputs": [],
   "source": [
    "try:\n",
    "\n",
    "    user_age = abs(int(input(\"What is the first user's age? \")))\n",
    "    user2_age = abs(int(input(\"What is the second user's age? \")))\n",
    "\n",
    "    difference = user_age - user2_age\n",
    "    print(abs(difference))\n",
    "\n",
    "except:\n",
    "    print(\"Please enter in a number, not text, and try again.\")\n"
   ]
  },
  {
   "cell_type": "markdown",
   "metadata": {},
   "source": [
    "## Exercise #2 \n",
    "<p>Accept 3 user inputs for variables named noun, verb and adjective. Print out a formatted string using the outputs.</p>"
   ]
  },
  {
   "cell_type": "code",
   "execution_count": null,
   "metadata": {},
   "outputs": [],
   "source": [
    "noun = input(\"Type in a noun: \").strip().title()\n",
    "verb = input(\"Type in a verb: \").strip()\n",
    "adjective = input(\"Type in an adjective: \").strip()\n",
    "\n",
    "print(f\"You made this sentence: {noun} {verb} {adjective}.\")"
   ]
  },
  {
   "cell_type": "markdown",
   "metadata": {},
   "source": [
    "## Exercise #3 <br>\n",
    "<p>Take in a users input for their age, if they are younger than 18 print kids, if they're 18 to 65 print adults, else print seniors</p>"
   ]
  },
  {
   "cell_type": "code",
   "execution_count": null,
   "metadata": {},
   "outputs": [],
   "source": [
    "try:\n",
    "\n",
    "    age = abs(int(input(\"What is your age? \")))\n",
    "    if age <= 17:\n",
    "        print(\"Kid\")\n",
    "    elif age >= 18 and age <= 65:\n",
    "        print(\"Adult\")\n",
    "    else:\n",
    "        print(\"Senior\")\n",
    "        \n",
    "except:\n",
    "    print(\"Please enter in a whole number, not text, and try again.\")\n",
    "    "
   ]
  },
  {
   "cell_type": "markdown",
   "metadata": {},
   "source": [
    "## Exercise #4\n",
    "<p>Take in a number from a user input, output the number squared.</p>"
   ]
  },
  {
   "cell_type": "code",
   "execution_count": null,
   "metadata": {},
   "outputs": [],
   "source": [
    "try:\n",
    "    \n",
    "    number = int(input(\"Pick a number: \"))\n",
    "    square = number ** 2\n",
    "    print(square)\n",
    "\n",
    "except: \n",
    "    print(\"Please enter in a whole number and try again.\")"
   ]
  },
  {
   "cell_type": "markdown",
   "metadata": {},
   "source": [
    "## Exercise #5\n",
    "<p>Check the below variables' length. If the length of the word is greater than 5 output True, if it is less than 5, output False<p>\n"
   ]
  },
  {
   "cell_type": "code",
   "execution_count": null,
   "metadata": {},
   "outputs": [],
   "source": [
    "word1 = \"panini\"\n",
    "word2 = \"bulbasaur\"\n",
    "word3 = \"pie\"\n",
    "word4 = \"dolphin\"\n",
    "word5 = \"dog\"\n",
    "\n",
    "if len(word1) > 5:\n",
    "    print(f\"{word1}: True\")\n",
    "else:\n",
    "    print(f\"{word1}: False\")\n",
    "    \n",
    "\n",
    "if len(word2) > 5:\n",
    "    print(f\"{word2}: True\")\n",
    "else:\n",
    "    print(f\"{word2}: False\")\n",
    "    \n",
    "\n",
    "if len(word3) > 5:\n",
    "    print(f\"{word3}: True\")\n",
    "else:\n",
    "    print(f\"{word3}: False\")\n",
    "    \n",
    "\n",
    "if len(word4) > 5:\n",
    "    print(f\"{word4}: True\")\n",
    "else:\n",
    "    print(f\"{word4}: False\")\n",
    "    \n",
    "\n",
    "if len(word5) > 5:\n",
    "    print(f\"{word5}: True\")\n",
    "else:\n",
    "    print(f\"{word5}: False\")"
   ]
  }
 ],
 "metadata": {
  "kernelspec": {
   "display_name": "Python 3 (ipykernel)",
   "language": "python",
   "name": "python3"
  },
  "language_info": {
   "codemirror_mode": {
    "name": "ipython",
    "version": 3
   },
   "file_extension": ".py",
   "mimetype": "text/x-python",
   "name": "python",
   "nbconvert_exporter": "python",
   "pygments_lexer": "ipython3",
   "version": "3.12.0"
  }
 },
 "nbformat": 4,
 "nbformat_minor": 4
}
